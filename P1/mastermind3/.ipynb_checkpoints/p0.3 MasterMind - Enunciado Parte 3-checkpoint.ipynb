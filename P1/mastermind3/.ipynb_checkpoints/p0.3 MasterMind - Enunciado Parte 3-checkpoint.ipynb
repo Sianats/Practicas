{
 "cells": [
  {
   "cell_type": "markdown",
   "metadata": {},
   "source": [
    "# Práctica 0.3 – Python MasterMind"
   ]
  },
  {
   "cell_type": "markdown",
   "metadata": {},
   "source": [
    "## Completando `MasterMindGame`: procesando el turno"
   ]
  },
  {
   "cell_type": "markdown",
   "metadata": {},
   "source": [
    "### Ejercicio 5"
   ]
  },
  {
   "cell_type": "markdown",
   "metadata": {},
   "source": [
    "Para terminar la implementación del juego, ya sólo tenemos que implementar una función que gestione un nuevo turno. \n",
    "\n",
    "Para eso hay que implementar el método que `newTurn` modo que cumpla la siguiente especificación:\n",
    "\n",
    "* Si la combinación indicada en `guess` no representa una combinación de colores válida, `newTurn` debe imprimir el siguiente mensaje de error y no hacer nada más: `\"Combinación incorrecta. Por favor, prueba de nuevo.\"`.\n",
    "* Si la combinación tiene un número de colores distinto al del código secreto, `newTurn` debe imprimir el siguiente mensaje de error y no hacer nada más: `\"Debes hacer una apuesta con \\(secretCode.count) colores. Por favor, prueba de nuevo.\"`.\n",
    "* Si se ha alcanzado el número máximo de turnos, o el jugador ha adivinado la clave en un turno anterior, `newTurn` debe imprimir el siguiente mensaje de error y no hacer nada más: `\"El juego ha terminado.\"`.\n",
    "* En los demás casos, `newTurn` hará lo siguiente:\n",
    "  - Sumar 1 al número de turno.\n",
    "  - Mostrar la combinación seleccionada por el usuario.\n",
    "  - Indicar el número de aciertos y semiaciertos.\n",
    "  - Si el jugador ha ganado, mostrará el mensaje `Has ganado en el turno x !`, y actualizará el estado de la partida para que no se puedan realizar más turnos.\n",
    "  - Si el jugador ha perdido, mostrará el mensaje `Lo siento, has perdido. Otra vez será.`."
   ]
  },
  {
   "cell_type": "markdown",
   "metadata": {},
   "source": [
    "### Ejercicio 6"
   ]
  },
  {
   "cell_type": "markdown",
   "metadata": {},
   "source": [
    "En lugar de darte nosotros el código para probar si tu implementación es correcta, en este caso debes crearlo tú mismo. \n",
    "\n",
    "Lo mejor es que leas el enunciado del Ejercicio 5, y después crees el código de prueba utilizando lo que se describe en la especificación. \n",
    "\n",
    "No necesitas que el código funcione para saber cómo tiene que funcionar. \n",
    "\n",
    "Trata de ser lo más exhaustivo posible. \n",
    "\n",
    "Guíate en el código de pruebas que hemos suministrado para los casos anteriores."
   ]
  },
  {
   "cell_type": "code",
   "execution_count": 6,
   "metadata": {},
   "outputs": [],
   "source": [
    "import random\n",
    "\n",
    "# esqueleto inicial\n",
    "class MasterMindGame:\n",
    "    # declaramos las variables que vamos a utilizar\n",
    "\n",
    "    MMC = {}  # diccionario de colores válidos.\n",
    "\n",
    "    secretCode = []  # código secreto que tenemos que adivinar.\n",
    "\n",
    "    validColors = \"rgybkw\"  # colores mastermind permitidos\n",
    "\n",
    "    maxTurns = 10  # máximo número de turnos para acertar la clave.\n",
    "    currentTurn = 0  # turno actual.\n",
    "\n",
    "    # construimos la función para iniciar la clase\n",
    "    def __init__(self, combiCode: str = \"nocombiCode\"):\n",
    "        # iniciamos el diccionario de colores\n",
    "        self.MMC[\"red\"] = \"🔴\"\n",
    "        self.MMC[\"green\"] = \"🟢\"\n",
    "        self.MMC[\"yellow\"] = \"🟡\"\n",
    "        self.MMC[\"blue\"] = \"🔵\"\n",
    "        self.MMC[\"black\"] = \"⚫\"\n",
    "        self.MMC[\"white\"] = \"⚪\"\n",
    "\n",
    "        if combiCode == \"nocombiCode\":\n",
    "            self.secretCode = self.randomCode(4)\n",
    "        else:\n",
    "            try:\n",
    "                self.secretCode = self.toMasterMindColorCombination(combiCode)\n",
    "            except:\n",
    "                self.secretCode = self.randomCode(4)\n",
    "\n",
    "    def randomCode(self, n: int) -> list:  # genera un código aleatorio\n",
    "        \n",
    "        colorsList = list(self.validColors)\n",
    "        passCode = random.choices(colorsList, k=n)\n",
    "        return self.toMasterMindColorCombination(passCode)\n",
    "\n",
    "\n",
    "    def MasterMindColor(self, color:str):  # convertir cadenas en colores\n",
    "        if color == 'r' or color == 'R' or color == \"🔴\":\n",
    "            rcolor = self.MMC[\"red\"]\n",
    "        elif color == 'g' or color == 'G' or color == \"🟢\":\n",
    "            rcolor = self.MMC[\"green\"]\n",
    "        elif color == 'y' or color == 'Y' or color == \"🟡\":\n",
    "            rcolor = self.MMC[\"yellow\"]\n",
    "        elif color == 'b' or color == 'B' or color == \"🔵\":\n",
    "            rcolor = self.MMC[\"blue\"]\n",
    "        elif color == 'k' or color == 'K' or color == \"⚫\":\n",
    "            rcolor = self.MMC[\"black\"]\n",
    "        elif color == 'w' or color == 'W' or color == \"⚪\":\n",
    "            rcolor = self.MMC[\"white\"]\n",
    "        else:\n",
    "            raise KeyError(color)\n",
    "        return rcolor\n",
    "\n",
    "    def toMasterMindColorCombination(self, combi:str):  # obtener una cadena de colores mastermind\n",
    "        return list(map(lambda n: self.MasterMindColor(n), combi))\n",
    "\n",
    "    def countExactMatches(self, matches: MasterMindColor) -> int:\n",
    "        exactMatches = 0\n",
    "        for n in range(0, 4):\n",
    "            if matches[n] == self.secretCode[n]:\n",
    "                exactMatches +=1\n",
    "            else:\n",
    "                exactMatches += 0\n",
    "        return exactMatches\n",
    "\n",
    "    def countPartialMatches(self, matches: MasterMindColor) -> int:\n",
    "        parcialmatch = list(filter(lambda x: x in matches, self.secretCode))\n",
    "        return len(parcialmatch)\n",
    "\n",
    "    def newTurn(self, guess: str): # Tiene que recibir la combinación\n",
    "        pGuess = []\n",
    "        bGuessMatch = False\n",
    "\n",
    "        #comprobamos si es una combinación válida\n",
    "        try:\n",
    "            pGuess = self.toMasterMindColorCombination(guess)\n",
    "        except:\n",
    "            print('Combinación incorrecta. Por favor, prueba de nuevo.')\n",
    "            return\n",
    "\n",
    "        #Comprobamos si el número de colores de la combinación es el adecuado\n",
    "        lSecretCode = len(self.secretCode)\n",
    "        if len(pGuess) != lSecretCode:\n",
    "            msg = \"Debes hacer una apuesta con {} colores. Por favor, prueba de nuevo.\"\n",
    "            print(msg.format(lSecretCode))\n",
    "            return\n",
    "\n",
    "\n",
    "        # Comprobamos si hemos agotado los turnos o hemos acertado\n",
    "        if self.currentTurn == self.maxTurns or bGuessMatch:\n",
    "            print('El juego ha terminado.')\n",
    "            return\n",
    "\n",
    "        self.currentTurn += 1\n",
    "        nMatches = self.countExactMatches(pGuess)\n",
    "        sMatches = self.countPartialMatches(pGuess)\n",
    "        print('Tu combinación:', pGuess)\n",
    "        print('Aciertos:', nMatches)\n",
    "        print('semiaciertos:', sMatches)\n",
    "\n",
    "        if lSecretCode == nMatches:\n",
    "            msg = 'Has ganado en el turno{}!'\n",
    "            print(msg.format(self.currentTurn))\n",
    "            self.currentTurn = self.maxTurns\n",
    "            return 0"
   ]
  },
  {
   "cell_type": "markdown",
   "metadata": {},
   "source": [
    "## Una partida de ejemplo"
   ]
  },
  {
   "cell_type": "markdown",
   "metadata": {},
   "source": [
    "A continuación se muestra un ejemplo de una partida completa una vez terminada la implementación:"
   ]
  },
  {
   "cell_type": "code",
   "execution_count": 4,
   "metadata": {},
   "outputs": [],
   "source": [
    "testGame = MasterMindGame()"
   ]
  },
  {
   "cell_type": "code",
   "execution_count": 30,
   "metadata": {},
   "outputs": [
    {
     "name": "stdout",
     "output_type": "stream",
     "text": [
      "Turno 1.\r\n",
      "Tu combinación: [🔴, 🔴, 🔵, 🔵]\r\n",
      "Aciertos: 1\r\n",
      "Semiaciertos: 1\r\n"
     ]
    }
   ],
   "source": [
    "testGame.newTurn(\"RRBB\")"
   ]
  },
  {
   "cell_type": "code",
   "execution_count": 31,
   "metadata": {},
   "outputs": [
    {
     "name": "stdout",
     "output_type": "stream",
     "text": [
      "Turno 2.\r\n",
      "Tu combinación: [🔴, 🔴, 🟢, 🟢]\r\n",
      "Aciertos: 1\r\n",
      "Semiaciertos: 1\r\n"
     ]
    }
   ],
   "source": [
    "testGame.newTurn(\"RRGG\")"
   ]
  },
  {
   "cell_type": "code",
   "execution_count": 32,
   "metadata": {},
   "outputs": [
    {
     "name": "stdout",
     "output_type": "stream",
     "text": [
      "Debes hacer una apuesta con 4 colores. Por favor, prueba de nuevo.\r\n"
     ]
    }
   ],
   "source": [
    "testGame.newTurn(\"🔴🔴🔴🔴🔴🔴🔴\")"
   ]
  },
  {
   "cell_type": "code",
   "execution_count": 33,
   "metadata": {},
   "outputs": [
    {
     "name": "stdout",
     "output_type": "stream",
     "text": [
      "Turno 3.\r\n",
      "Tu combinación: [🔵, 🔵, ⚫, ⚫]\r\n",
      "Aciertos: 0\r\n",
      "Semiaciertos: 0\r\n"
     ]
    }
   ],
   "source": [
    "testGame.newTurn(\"BBKK\")"
   ]
  },
  {
   "cell_type": "code",
   "execution_count": 34,
   "metadata": {},
   "outputs": [
    {
     "name": "stdout",
     "output_type": "stream",
     "text": [
      "Turno 4.\r\n",
      "Tu combinación: [🔴, 🟡, 🟡, 🔴]\r\n",
      "Aciertos: 3\r\n",
      "Semiaciertos: 0\r\n"
     ]
    }
   ],
   "source": [
    "testGame.newTurn(\"RYYR\")"
   ]
  },
  {
   "cell_type": "code",
   "execution_count": 35,
   "metadata": {},
   "outputs": [
    {
     "name": "stdout",
     "output_type": "stream",
     "text": [
      "Turno 5.\r\n",
      "Tu combinación: [🔴, 🟡, ⚪, 🔴]\r\n",
      "Has ganado en el turno 5!\r\n"
     ]
    }
   ],
   "source": [
    "testGame.newTurn(\"🔴🟡⚪🔴\")"
   ]
  },
  {
   "cell_type": "code",
   "execution_count": 36,
   "metadata": {},
   "outputs": [
    {
     "name": "stdout",
     "output_type": "stream",
     "text": [
      "El juego ha terminado.\r\n"
     ]
    }
   ],
   "source": [
    "testGame.newTurn(\"🔴🟡⚪🔴\")"
   ]
  }
 ],
 "metadata": {
  "kernelspec": {
   "display_name": "Python 3 (ipykernel)",
   "language": "python",
   "name": "python3"
  },
  "language_info": {
   "codemirror_mode": {
    "name": "ipython",
    "version": 3
   },
   "file_extension": ".py",
   "mimetype": "text/x-python",
   "name": "python",
   "nbconvert_exporter": "python",
   "pygments_lexer": "ipython3",
   "version": "3.10.6"
  }
 },
 "nbformat": 4,
 "nbformat_minor": 4
}
